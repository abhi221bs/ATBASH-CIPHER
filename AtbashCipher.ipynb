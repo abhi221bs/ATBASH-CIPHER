{
 "cells": [
  {
   "cell_type": "code",
   "execution_count": null,
   "metadata": {},
   "outputs": [],
   "source": [
    "# We assumed that we will only work txt files.\n",
    "# We assumed here that the Python program is running from the same directory where the file is situated.\n",
    "# Also we named the new encrypted file as 'name_of_file'encryptedfile.txt .\n",
    "\n",
    "import os\n",
    "pwd = os.getcwd()\n",
    "filename = input('Input filename:')\n",
    "filelocation = str(pwd)+'\\\\'+str(filename)\n",
    "myfile = open(filelocation)\n",
    "myfile.seek(0)\n",
    "# myfile.readlines()\n",
    "def encrypt(pt):\n",
    "    encpt=list(pt)\n",
    "    for i in range(len(pt)):\n",
    "        a=ord(encpt[i])\n",
    "        if a >= 65 and a<=90:\n",
    "            a=91-(a-64)\n",
    "            ch=chr(a)\n",
    "            encpt[i]=ch\n",
    "        if a >= 97 and a<=122:\n",
    "            a=123-(a-96)\n",
    "            ch=chr(a)\n",
    "            encpt[i]=ch\n",
    "    return(''.join(encpt))\n",
    "\n",
    "def decrypt(encpt):\n",
    "    decpt=list(encpt)\n",
    "    for i in range(len(encpt)):\n",
    "        a=ord(decpt[i])\n",
    "        if a >= 65 and a<=90:\n",
    "            a=91-(a-64)\n",
    "            ch=chr(a)\n",
    "            decpt[i]=ch\n",
    "        if a >= 97 and a<=122:\n",
    "            a=123-(a-96)\n",
    "            ch=chr(a)\n",
    "            decpt[i]=ch\n",
    "    return(''.join(decpt))\n",
    "myfile.seek(0)\n",
    "pt=myfile.read()\n",
    "encpt=encrypt(pt)\n",
    "# print('encrypted text:',encpt)\n",
    "with open(os.path.splitext(filelocation)[0]+'encryptedfile.txt','w') as file:\n",
    "            file.write(encpt)\n",
    "            file.close()\n",
    "print('Completed conversion and stored at '+os.path.splitext(filelocation)[0]+'encryptedfile.txt')\n",
    "# decpt=decrypt(encpt)\n",
    "# print('decrypted text:',decpt)"
   ]
  }
 ],
 "metadata": {
  "kernelspec": {
   "display_name": "Python 3",
   "language": "python",
   "name": "python3"
  },
  "language_info": {
   "codemirror_mode": {
    "name": "ipython",
    "version": 3
   },
   "file_extension": ".py",
   "mimetype": "text/x-python",
   "name": "python",
   "nbconvert_exporter": "python",
   "pygments_lexer": "ipython3",
   "version": "3.7.3"
  }
 },
 "nbformat": 4,
 "nbformat_minor": 2
}
